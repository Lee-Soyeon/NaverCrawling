{
 "cells": [
  {
   "cell_type": "code",
   "execution_count": 1,
   "metadata": {},
   "outputs": [
    {
     "name": "stdout",
     "output_type": "stream",
     "text": [
      "pygame 1.9.5\n",
      "Hello from the pygame community. https://www.pygame.org/contribute.html\n"
     ]
    }
   ],
   "source": [
    "from konlpy.tag import Twitter\n",
    "from collections import Counter\n",
    "\n",
    "import pytagcloud\n",
    "import webbrowser"
   ]
  },
  {
   "cell_type": "code",
   "execution_count": 2,
   "metadata": {},
   "outputs": [],
   "source": [
    "def saveWordCloud(wordInfo, filename):\n",
    "    \n",
    "    taglist = pytagcloud.make_tags(dict(wordInfo).items(), maxsize=80)\n",
    "    pytagcloud.create_tag_image(taglist, filename, size=(640, 480), fontname='korean', rectangular=False)\n",
    "    webbrowser.open(filename)"
   ]
  },
  {
   "cell_type": "code",
   "execution_count": 5,
   "metadata": {},
   "outputs": [
    {
     "name": "stdout",
     "output_type": "stream",
     "text": [
      "화제: 1420\n",
      "소화: 1415\n",
      "부작용: 1125\n",
      "복용: 1064\n",
      "성분: 686\n",
      "위장: 654\n",
      "경우: 646\n",
      "증상: 615\n",
      "때문: 486\n",
      "불량: 458\n",
      "효과: 424\n",
      "위산: 363\n",
      "음식: 360\n",
      "운동: 348\n",
      "제산제: 332\n",
      "분비: 327\n",
      "기능: 326\n",
      "치료: 313\n",
      "처방: 309\n",
      "약물: 298\n",
      "사용: 292\n",
      "이상: 288\n",
      "소화효소: 283\n",
      "사람: 283\n",
      "정도: 253\n",
      "도움: 249\n",
      "설사: 239\n",
      "제품: 235\n",
      "촉진: 230\n",
      "위염: 221\n",
      "효소: 209\n",
      "병원: 207\n",
      "카베: 205\n",
      "생각: 201\n"
     ]
    }
   ],
   "source": [
    "def main():\n",
    "    \n",
    "    openFileName = '소화제 부작용.txt'\n",
    "    cloudImagePath = '소화제 부작용.jpg'\n",
    "    \n",
    "    f = open(openFileName, 'r', encoding='utf-8')\n",
    "    data = f.read()\n",
    "    f.close()\n",
    "    \n",
    "    nlp = Twitter()\n",
    "    nouns = nlp.nouns(data)\n",
    "    count = Counter(nouns)\n",
    "    \n",
    "    \n",
    "    wordInfo = dict()\n",
    "    for tags, counts in count.most_common(50):\n",
    "        if (len(str(tags)) > 1):\n",
    "            wordInfo[tags] = counts\n",
    "            print(\"%s: %d\" % (tags, counts))\n",
    "            \n",
    "    saveWordCloud(wordInfo, cloudImagePath)\n",
    "    \n",
    "if __name__ ==\"__main__\":\n",
    "    main()"
   ]
  },
  {
   "cell_type": "code",
   "execution_count": null,
   "metadata": {},
   "outputs": [],
   "source": []
  }
 ],
 "metadata": {
  "kernelspec": {
   "display_name": "Python 3",
   "language": "python",
   "name": "python3"
  },
  "language_info": {
   "codemirror_mode": {
    "name": "ipython",
    "version": 3
   },
   "file_extension": ".py",
   "mimetype": "text/x-python",
   "name": "python",
   "nbconvert_exporter": "python",
   "pygments_lexer": "ipython3",
   "version": "3.7.1"
  }
 },
 "nbformat": 4,
 "nbformat_minor": 2
}
