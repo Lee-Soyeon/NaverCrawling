{
 "cells": [
  {
   "cell_type": "code",
   "execution_count": 1,
   "metadata": {},
   "outputs": [],
   "source": [
    "import os\n",
    "import sys\n",
    "import urllib.request\n",
    "import datetime\n",
    "import time\n",
    "import json\n",
    "from bs4 import BeautifulSoup\n",
    "from selenium import webdriver\n",
    "from selenium.common.exceptions import TimeoutException\n",
    "from selenium.common.exceptions import WebDriverException"
   ]
  },
  {
   "cell_type": "code",
   "execution_count": 2,
   "metadata": {},
   "outputs": [],
   "source": [
    "def get_request_url(url):\n",
    "    \n",
    "    req = urllib.request.Request(url)\n",
    "    req.add_header(\"X-Naver-Client-Id\", \"3X2XyB8si7yYSByRQ1lj\")\n",
    "    req.add_header(\"X-Naver-Client-Secret\", \"IRc7OibXu_\")\n",
    "    try: \n",
    "        response = urllib.request.urlopen(req)\n",
    "        if response.getcode() == 200:\n",
    "            print (\"[%s] Url Request Success\" % datetime.datetime.now())\n",
    "            return response.read().decode('utf-8')\n",
    "    except Exception as e:\n",
    "        print(e)\n",
    "        print(\"[%s] Error for URL : %s\" % (datetime.datetime.now(), url))\n",
    "        return None"
   ]
  },
  {
   "cell_type": "code",
   "execution_count": 3,
   "metadata": {},
   "outputs": [],
   "source": [
    "def getNaverSearchResult(sNode, search_text, page_start, display):\n",
    "    \n",
    "    base = \"https://openapi.naver.com/v1/search\"\n",
    "    node = \"/%s.json\" % sNode\n",
    "    parameters = \"?query=%s&start=%s&display=%s\" % (urllib.parse.quote(search_text), page_start, display)\n",
    "    url = base + node + parameters\n",
    "    \n",
    "    retData = get_request_url(url)\n",
    "    \n",
    "    if (retData == None):\n",
    "        return None\n",
    "    else:\n",
    "        return json.loads(retData)"
   ]
  },
  {
   "cell_type": "code",
   "execution_count": 4,
   "metadata": {},
   "outputs": [],
   "source": [
    "def getPostData(post, jsonResult):\n",
    "    \n",
    "    title = post['title']\n",
    "    description = post['description']\n",
    "    link = post['link']\n",
    "\n",
    "    jsonResult.append({'title':title, 'description': description, 'link': link})\n",
    "        \n",
    "    return"
   ]
  },
  {
   "cell_type": "code",
   "execution_count": 5,
   "metadata": {
    "scrolled": true
   },
   "outputs": [],
   "source": [
    "def makeJson():\n",
    "\n",
    "    jsonResult = []\n",
    "\n",
    "    # 'news', 'blog', 'cafearticle', 'kin'\n",
    "\n",
    "    sNode = 'kin'\n",
    "    search_text = '소화제'\n",
    "    display_count = 100\n",
    "    \n",
    "    jsonSearch = getNaverSearchResult(sNode, search_text, 1, display_count)\n",
    "    \n",
    "    while ((jsonSearch != None) and (jsonSearch['display'] != 0)):\n",
    "        for post in jsonSearch['items']:\n",
    "            getPostData(post, jsonResult)\n",
    "        \n",
    "        nStart = jsonSearch['start'] + jsonSearch['display']\n",
    "        \n",
    "        if nStart > 1000:\n",
    "            break\n",
    "        \n",
    "        jsonSearch = getNaverSearchResult(sNode, search_text, nStart, display_count)\n",
    "    \n",
    "    with open('%s_naver_%s.json' % (search_text, sNode), 'w', encoding='utf8') as outfile:\n",
    "        retJson = json.dumps(jsonResult, indent=4, sort_keys=True, ensure_ascii=False)\n",
    "        outfile.write(retJson)\n",
    "        \n",
    "    print ('%s_naver_%s.json SAVED' % (search_text, sNode))\n",
    "    \n",
    "    return search_text"
   ]
  },
  {
   "cell_type": "code",
   "execution_count": 6,
   "metadata": {},
   "outputs": [],
   "source": [
    "def makeLinkList(keyword):\n",
    "    items = json.load(open(keyword + \"_naver_kin.json\", \"r\", encoding=\"utf-8\"))\n",
    "    links = []\n",
    "    \n",
    "    idx = 1\n",
    "    for item in items:\n",
    "        print(str(idx) + \" : \" + item[\"link\"])\n",
    "        links.append(item[\"link\"])\n",
    "            \n",
    "        if idx == 5:\n",
    "            break\n",
    "            \n",
    "        idx += 1\n",
    "    \n",
    "    return links"
   ]
  },
  {
   "cell_type": "code",
   "execution_count": 10,
   "metadata": {},
   "outputs": [],
   "source": [
    "def textCrawling(links, keyword):\n",
    "    \n",
    "    wfile = open(os.getcwd() + \"/\" + keyword + \"_naver_kin.txt\", mode='w', encoding='utf-8')\n",
    "    \n",
    "    idx = 1\n",
    "    for link in links:\n",
    "        try:\n",
    "            driver = webdriver.Chrome(\"/Users/leesoyeon/chromedriver\")\n",
    "            driver.get(link)\n",
    "\n",
    "            print(\"\\nnaver_kin_\" + str(idx) + \"\\n\")\n",
    "            \n",
    "            html = driver.page_source\n",
    "\n",
    "            bs = BeautifulSoup(html, 'html.parser')\n",
    "                \n",
    "            title = bs.select(\"#content > div.question-content > div > div.c-heading._questionContentsArea > div.c-heading__title > div > div\")\n",
    "            question = bs.select(\"#content > div.question-content > div > div.c-heading._questionContentsArea.c-heading--default-old > div.c-heading__content\")\n",
    "            answer = bs.find_all('div', {'class':'c-heading-answer__content-user'})\n",
    "\n",
    "            wfile.write(\"\\nnaver_kin_\" + str(idx))\n",
    "\n",
    "            printAndWriteData(wfile, title)\n",
    "            printAndWriteData(wfile, question)\n",
    "            printAndWriteData(wfile, answer)\n",
    "        \n",
    "        except Exception as e:\n",
    "            print(e)\n",
    "        \n",
    "        finally:\n",
    "            idx = idx + 1\n",
    "            driver.close()\n",
    "    \n",
    "    wfile.close()"
   ]
  },
  {
   "cell_type": "code",
   "execution_count": 11,
   "metadata": {},
   "outputs": [],
   "source": [
    "def printAndWriteData(file, textList):\n",
    "    for text in textList:\n",
    "        content = text.get_text().strip()\n",
    "        print(content)\n",
    "        file.write(content)\n",
    "        \n",
    "    return"
   ]
  },
  {
   "cell_type": "code",
   "execution_count": 12,
   "metadata": {},
   "outputs": [
    {
     "name": "stdout",
     "output_type": "stream",
     "text": [
      "[2019-05-15 23:34:48.566886] Url Request Success\n",
      "[2019-05-15 23:34:48.841723] Url Request Success\n",
      "[2019-05-15 23:34:49.194445] Url Request Success\n",
      "[2019-05-15 23:34:49.652161] Url Request Success\n",
      "[2019-05-15 23:34:49.994539] Url Request Success\n",
      "[2019-05-15 23:34:50.474784] Url Request Success\n",
      "[2019-05-15 23:34:50.819937] Url Request Success\n",
      "[2019-05-15 23:34:51.043549] Url Request Success\n",
      "[2019-05-15 23:34:51.154962] Url Request Success\n",
      "[2019-05-15 23:34:51.388990] Url Request Success\n",
      "소화제_naver_kin.json SAVED\n",
      "1 : https://kin.naver.com/qna/detail.nhn?d1id=7&dirId=7010102&docId=325949769&qb=7IaM7ZmU7KCc&enc=utf8&section=kin.qna&rank=1&search_sort=0&spq=0\n",
      "2 : https://kin.naver.com/qna/detail.nhn?d1id=7&dirId=70404&docId=326785913&qb=7IaM7ZmU7KCc&enc=utf8&section=kin.qna&rank=2&search_sort=0&spq=0\n",
      "3 : https://kin.naver.com/qna/detail.nhn?d1id=7&dirId=70401&docId=323520901&qb=7IaM7ZmU7KCc&enc=utf8&section=kin.qna&rank=3&search_sort=0&spq=0\n",
      "4 : https://kin.naver.com/qna/detail.nhn?d1id=7&dirId=7010102&docId=321947439&qb=7IaM7ZmU7KCc&enc=utf8&section=kin.qna&rank=4&search_sort=0&spq=0\n",
      "5 : https://kin.naver.com/qna/detail.nhn?d1id=7&dirId=70115&docId=323599779&qb=7IaM7ZmU7KCc&enc=utf8&section=kin.qna&rank=5&search_sort=0&spq=0\n",
      "\n",
      "naver_kin_1\n",
      "\n",
      "매일 소화제를 먹습니다.\n",
      "해외 파견 생활 중이고, 1년 정도 캄보디아에서 계속 생활해야합니다.  이곳에 온지 벌써 2달 이상 넘었습니다. 현지 음식에도 잘 적응된 상태라고 보입니다. 다만, 제가 한국에서도 소화력이 좋은 편이 아니었으나, 이곳에 와서 유독 소화가 잘 안되어서거의 매일같이 저녁에 한 번 소화제를 먹어야 잠에 들 수 있습니다. 소화제를 안먹고 자면, 새벽에 일어나서 거의 토하기 직전의 불쾌한 상태까지 이르게 됩니다.  잘하면 이틀에 한번 저녁에 먹거나, 심할때는 매일같이 먹는 것을 벌써 한달째 하고 있습니다. 소화가 안되는 이유가 여러개가 있을 테고 병원도 가봐야겠지만, 우선 한국에서도 소화 문제는 있어왔고요... 어렸을 떄 부터요! 그리고 이곳에서 위 검사를 받을 만한 환경조차 마련되지 못한 상황입니다. 다만, 이렇게 소화제를 이틀이나 하루 꼴로 한 번 먹는 생활을 장기적으로 할 때 부작용이나 안좋은 점이 있을 지, 그것이 너무 궁금하고 걱정됩니다.\n",
      "안녕하세요. 하이닥-네이버 지식iN 상담의 김무웅 입니다.사실 소화제를 먹는다고 해서 알려진 큰 부작용은 없습니다.베*제 라는 약의 성분을 보면 대부분 소화효소이니 큰 부작용은 없을 것으로 생각됩니다Biodiastase 2000 50mgLipase 100 15mgPancellase 30mgPancreatin enteric coated granule 78.6mgPanprosin ss 20mgSimethicone 40mgursodeoxycholic acid 10mg한국에 오셔서 한 번 쯤 소화기 관련 정밀 검사를 해보는게 좋겠습니다감사합니다.\n",
      "\n",
      "naver_kin_2\n",
      "\n",
      "소화제랑 커피랑 같이 먹어도 되는건가요?동아제약 회사꺼고 약이름은 베나치오액 이에요커피 먹고서 소화제 먹어도 될까요\n",
      "안녕하세요. 네이버 지식iN 상담 약사 정일영 입니다.​두 가지를 같이 드셔도 크게 문제는 없겠으나, 위가 자극  받을 수는 있겠습니다.\n",
      "\n",
      "naver_kin_3\n",
      "\n",
      "두통과 미식거림이 있어 소화제를 조금 마신후로 계속 토 하고있습니다 나오는거라곤 거품이있는 위액인지 뭔지 모를 하얀색 안멈추면 어떡하죠 예전에 급성위염으로 계속 토한적이있어 불안하고 무섭습니다 ㅜㅜ두통약을 먹어 두통은사라졌지만 속은 그대로...\n",
      "안녕하세요. 네이버 지식iN 상담 약사 이진엽 입니다.현재 어떤 요인으로 인해서 생긴 증상인지 정확한 검사를 받아 보시고서 증상을 확인해 보시는 것이 좋을 것 같습니다. 아무런 진료 없이 막연하게 소화제를 복용하시는 것은 더 좋지 않은 영향이 갈 수 있으므로 가까운 병원에 내원하시고서 빠른 도움을 받아 보시는 것이 좋을 것 같습니다. 감사합니다.\n",
      "\n",
      "naver_kin_4\n",
      "\n",
      "속이 안 좋아서 소화제를 막었는데 2시간 정도 지나도 안 없어지네요ㅜ 어떡하죠?\n",
      "속이 안 좋아서 소화제를 막었는데 2시간 정도 지나도 안 없어지네요ㅜ 어떡하죠?소화불량이 있는듯 한데 과식이나 폭식은 피하세요. 하루 정도 금식 해보세요 또 음식 먹으면 체증이 심해질 수 있습니다. 따뜻한 꿀물이나 보리차를 조금씩 자주 마셔주면 위가 진정이 잘 됩니다. 소화불량이란 섭취한 음식물의 소화가 진행되지 않는 애매한 느낌이나  복부의 불편감이 생기는걸 말합니다. 트름이나 가스가 찬 느낌을 호소하기도 하며 누구나 경험하는 흔한 증상인데  이러한 복부 증상을 일으키는 원인은 매우 다양하지만  좁은 의미에서는 불편감이 위장관의 기능이상에 의한 경우에만 국한하여 사용됩니다.   뚜렷하게 국한되지 않는 상복부 불쾌감, 음식 섭취 후 악화되는  불쾌감, 구역, 구토, 조기 포 만감, 상복부 팽만감, 트림 등은  상부 위장관 기능장애의 특징적인 증상 입니다. 아랫배 쪽을 중심으로 팽만감, 불쾌한 통증, 방귀, 시원치 못한 배변 등은  과민성 장증후군의 주 증상이라고 합니다. 불편하면 내과에 가보세요.   기타 원인에 의한 증상들은 원인질환의 위치에 따라서 다릅니다.  소염진통제 등 약물에 의한 경우는 속쓰림과 위통이 동반되는 경우가 많으며  심한 경우 위궤양 등 기질적 질환이 발생합니다. 담낭이나 요로계의 결석과 연관된 소화불량은  간헐적으로 몹시 아프다가 사라지는 통증과 동반됩니다. 심부전은 호흡곤란과 부종이 동반되며  폐결핵은 기침, 각혈, 체중감소, 미열 등이 동반됩니다.   관련 전문의 의견을 모아서 링크를 해 드렸었는데  네이버가 그런건지 누가 신고를 해서 그런건지  흥보성 글이라고 답을 삭제해서 추가로 링크를 못해드립니다.   소화불량      소화불량 관련  기능성 소화불량 설명      기능성소화불량 관련        신경성 위장병 관련       체했을  때 응급 조치      소화제관련         제산제 관련 과식 관련       폭식 관련 을 아래 카페나 인터넷에서 찾아서 읽어 보세요.\n",
      "\n",
      "naver_kin_5\n",
      "\n",
      "항생제+소화제=?\n",
      "제목 그대로 항생제를 먹으면 소화가 안되는데 소화제하고 같이 먹을 수 있나여?\n",
      "안녕하세요. 하이닥-네이버 지식iN 상담의 이상욱 입니다.드셔도 됩니다.모두다는 아니지만 항생제 복용후 소화 불량이나장 운동에 영향을 받을 수 있습니다.처방 해 주신 병원의 선생님께 이러한 증상을 얘기하시면다음에 처방 받을 때 미리 소화기 계통 약물과 함께처방 받으실 수 있으실 겁니다.감사합니다.\n"
     ]
    }
   ],
   "source": [
    "def main():\n",
    "    keyword = makeJson()\n",
    "    links = makeLinkList(keyword)\n",
    "    result = textCrawling(links, keyword)\n",
    "    \n",
    "if __name__ == \"__main__\":\n",
    "    main()"
   ]
  },
  {
   "cell_type": "code",
   "execution_count": null,
   "metadata": {},
   "outputs": [],
   "source": []
  }
 ],
 "metadata": {
  "kernelspec": {
   "display_name": "Python 3",
   "language": "python",
   "name": "python3"
  },
  "language_info": {
   "codemirror_mode": {
    "name": "ipython",
    "version": 3
   },
   "file_extension": ".py",
   "mimetype": "text/x-python",
   "name": "python",
   "nbconvert_exporter": "python",
   "pygments_lexer": "ipython3",
   "version": "3.7.1"
  }
 },
 "nbformat": 4,
 "nbformat_minor": 2
}
